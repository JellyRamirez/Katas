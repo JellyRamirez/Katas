{
 "cells": [
  {
   "cell_type": "markdown",
   "metadata": {},
   "source": [
    "# Ejercicio 1 : Utilizar operadores aritméticos\n"
   ]
  },
  {
   "cell_type": "code",
   "execution_count": 5,
   "metadata": {},
   "outputs": [
    {
     "name": "stdout",
     "output_type": "stream",
     "text": [
      "Distancia Entre Dos Planetas\n",
      "La distancia entre los dos planetas es de 628949330 km o 390577533.93 millas.\n"
     ]
    }
   ],
   "source": [
    "title = 'Distancia entre dos planetas'\n",
    "print(f'{title.title()}')\n",
    "d_1 = 149597870\n",
    "d_2 = 778547200\n",
    "\n",
    "d_f = d_2 - d_1\n",
    "\n",
    "m_f = d_f * 0.621\n",
    "print(f'La distancia entre los dos planetas es de {d_f} km o {m_f} millas.')"
   ]
  },
  {
   "cell_type": "markdown",
   "metadata": {},
   "source": [
    "# Ejercicio 2 : Convierte cadenas en números y usa valores absolutos"
   ]
  },
  {
   "cell_type": "code",
   "execution_count": 6,
   "metadata": {},
   "outputs": [
    {
     "name": "stdout",
     "output_type": "stream",
     "text": [
      "Distancia Entre Dos Planetas\n",
      "La distancia entre los dos planetas es de 628949330 km o 390577533.93 millas.\n"
     ]
    }
   ],
   "source": [
    "title = 'Distancia entre dos planetas'\n",
    "print(f'{title.title()}')\n",
    "d_1 = int(input(\"Ingrese la primera distancia [km]: \"))\n",
    "d_2 = int(input('Ingrese la segunda distancia [km]: '))\n",
    "\n",
    "d_f = abs(d_1 - d_2)\n",
    "\n",
    "m_f = d_f * 0.621\n",
    "print(f'La distancia entre los dos planetas es de {d_f} km o {m_f} millas.')"
   ]
  }
 ],
 "metadata": {
  "interpreter": {
   "hash": "1e649b193d03f972cce0fc4f5c57764441ad8ceea30bfcf30b505dea29a3b4c0"
  },
  "kernelspec": {
   "display_name": "Python 3.10.2 64-bit",
   "language": "python",
   "name": "python3"
  },
  "language_info": {
   "codemirror_mode": {
    "name": "ipython",
    "version": 3
   },
   "file_extension": ".py",
   "mimetype": "text/x-python",
   "name": "python",
   "nbconvert_exporter": "python",
   "pygments_lexer": "ipython3",
   "version": "3.10.2"
  },
  "orig_nbformat": 4
 },
 "nbformat": 4,
 "nbformat_minor": 2
}
