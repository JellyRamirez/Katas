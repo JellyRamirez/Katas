{
 "cells": [
  {
   "cell_type": "markdown",
   "metadata": {},
   "source": [
    "* Sentencias if, else y elif"
   ]
  },
  {
   "cell_type": "markdown",
   "metadata": {},
   "source": [
    "Pense que era un solo ejercicio, así que lo puse todo junto. :))"
   ]
  },
  {
   "cell_type": "code",
   "execution_count": 1,
   "metadata": {},
   "outputs": [
    {
     "name": "stdout",
     "output_type": "stream",
     "text": [
      "¡Adevertencia!\n",
      "¡Asteroide muy peligroso!\n"
     ]
    }
   ],
   "source": [
    "v = int(input('Ingrese velocidad del asteroirde [km/s]:  '))\n",
    "d = int(input('Ingrese la dimensión del asteroide [km]: '))\n",
    "if v > 25 and d > 25 or v < 25 and d > 25: #De forma que cuando v < 25 pero el diametro sigue sienndo > mande advertencia.\n",
    "    print('¡Adevertencia!\\n¡Asteroide muy peligroso!')\n",
    "elif v >= 20:\n",
    "    print('¡Puede que veas un rayo de luz, un asteroide se acerca!')\n",
    "elif d < 25:\n",
    "    print('¡El asteroide se desintegrara rápido!')  \n",
    "else:\n",
    "    print('Todo en calma.')  "
   ]
  }
 ],
 "metadata": {
  "interpreter": {
   "hash": "1e649b193d03f972cce0fc4f5c57764441ad8ceea30bfcf30b505dea29a3b4c0"
  },
  "kernelspec": {
   "display_name": "Python 3.10.2 64-bit",
   "language": "python",
   "name": "python3"
  },
  "language_info": {
   "codemirror_mode": {
    "name": "ipython",
    "version": 3
   },
   "file_extension": ".py",
   "mimetype": "text/x-python",
   "name": "python",
   "nbconvert_exporter": "python",
   "pygments_lexer": "ipython3",
   "version": "3.10.2"
  },
  "orig_nbformat": 4
 },
 "nbformat": 4,
 "nbformat_minor": 2
}
