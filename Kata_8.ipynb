{
 "cells": [
  {
   "cell_type": "markdown",
   "metadata": {},
   "source": [
    "# Ejercicio 1: Creación de diccionarios de Python"
   ]
  },
  {
   "cell_type": "code",
   "execution_count": 17,
   "metadata": {},
   "outputs": [
    {
     "name": "stdout",
     "output_type": "stream",
     "text": [
      "The planet Mars has 2 moons.\n",
      "dict_items([('name', 'Mars'), ('moons', 2), ('circumference', {'polar': 6752, 'equatorial': 6792})])\n",
      "The planet Mars has a polar circumference of 6752 km.\n"
     ]
    }
   ],
   "source": [
    "#Primer diccionario de datos\n",
    "planet = { 'name' : 'Mars' , 'moons' : 2}\n",
    "print(f'The planet {planet[\"name\"]} has {planet[\"moons\"]} moons.')\n",
    "#Agregamos las circunferencias\n",
    "planet['circumference'] = {'polar' : 6752 , 'equatorial' : 6792}\n",
    "print(f'The planet {planet[\"name\"]} has a polar circumference of {planet[\"circumference\"][\"polar\"]} km.')\n",
    "\n"
   ]
  },
  {
   "cell_type": "markdown",
   "metadata": {},
   "source": [
    "# Ejercicio 2: Programación dinámica con diccionarios"
   ]
  },
  {
   "cell_type": "code",
   "execution_count": 19,
   "metadata": {},
   "outputs": [
    {
     "name": "stdout",
     "output_type": "stream",
     "text": [
      "La cantidad total de lunas es 214\n",
      "El promedio de lunas es  17.833333333333332\n"
     ]
    }
   ],
   "source": [
    "planet_moons = {\n",
    "    'mercury': 0,\n",
    "    'venus': 0,\n",
    "    'earth': 1,\n",
    "    'mars': 2,\n",
    "    'jupiter': 79,\n",
    "    'saturn': 82,\n",
    "    'uranus': 27,\n",
    "    'neptune': 14,\n",
    "    'pluto': 5,\n",
    "    'haumea': 2,\n",
    "    'makemake': 1,\n",
    "    'eris': 1\n",
    "}\n",
    "moons = 0\n",
    "for moon in planet_moons.values():\n",
    "    moons = moons + moon\n",
    "    \n",
    "print('La cantidad total de lunas es', moons)\n",
    "\n",
    "planets = len(planet_moons.keys())\n",
    "\n",
    "prom = moons / planets\n",
    "\n",
    "print('El promedio de lunas es ', prom)\n"
   ]
  }
 ],
 "metadata": {
  "interpreter": {
   "hash": "1e649b193d03f972cce0fc4f5c57764441ad8ceea30bfcf30b505dea29a3b4c0"
  },
  "kernelspec": {
   "display_name": "Python 3.10.2 64-bit",
   "language": "python",
   "name": "python3"
  },
  "language_info": {
   "codemirror_mode": {
    "name": "ipython",
    "version": 3
   },
   "file_extension": ".py",
   "mimetype": "text/x-python",
   "name": "python",
   "nbconvert_exporter": "python",
   "pygments_lexer": "ipython3",
   "version": "3.10.2"
  },
  "orig_nbformat": 4
 },
 "nbformat": 4,
 "nbformat_minor": 2
}
