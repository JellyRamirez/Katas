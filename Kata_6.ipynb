{
 "cells": [
  {
   "cell_type": "markdown",
   "metadata": {},
   "source": [
    "# Ejercicio 1 : Crear y usar listas de Python"
   ]
  },
  {
   "cell_type": "code",
   "execution_count": 2,
   "metadata": {},
   "outputs": [
    {
     "name": "stdout",
     "output_type": "stream",
     "text": [
      "\n",
      "Hay una cantidad de 9 planetas...\n",
      "Y Pluton es el último planeta.\n",
      "\n"
     ]
    }
   ],
   "source": [
    "planets = ['Mercurio','Venus','Tierra','Marte','Júpiter','Saturno','Urano','Neptuno']\n",
    "\n",
    "planets.append('Pluton')\n",
    "\n",
    "print(f'''\n",
    "Hay una cantidad de {len(planets)} planetas...\n",
    "Y {planets[-1]} es el último planeta.\n",
    "''')\n"
   ]
  },
  {
   "cell_type": "markdown",
   "metadata": {},
   "source": [
    "# Ejercicio 2 : Trabajando con datos de una lista"
   ]
  },
  {
   "cell_type": "code",
   "execution_count": 7,
   "metadata": {},
   "outputs": [
    {
     "name": "stdout",
     "output_type": "stream",
     "text": [
      "Estos son los planetas más cercanos a Null:\n",
      " ['Mercurio', 'Venus', 'Tierra', 'Marte', 'Júpiter', 'Saturno', 'Urano', 'Neptuno']\n",
      "Estos son los planetas más cercanos a Null:\n",
      " []\n"
     ]
    }
   ],
   "source": [
    "planets = ['Mercurio','Venus','Tierra','Marte','Júpiter','Saturno','Urano','Neptuno']\n",
    "#Pedimos el planeta del usuario\n",
    "user_p = input('Ingrese el nombre del planeta (Con mayúscula al inicio): ')\n",
    "\n",
    "#Añadimos a lista e identificamos su índice\n",
    "planets.append(user_p)\n",
    "p_i = planets.index(user_p)\n",
    "\n",
    "#Planetas más cerca\n",
    "print(f'Estos son los planetas más cercanos a {user_p}:\\n {planets[:p_i]}')\n",
    "\n",
    "#Planetas más lejos\n",
    "print(f'Estos son los planetas más cercanos a {user_p}:\\n {planets[p_i+1:]}')\n"
   ]
  }
 ],
 "metadata": {
  "interpreter": {
   "hash": "1e649b193d03f972cce0fc4f5c57764441ad8ceea30bfcf30b505dea29a3b4c0"
  },
  "kernelspec": {
   "display_name": "Python 3.10.2 64-bit",
   "language": "python",
   "name": "python3"
  },
  "language_info": {
   "codemirror_mode": {
    "name": "ipython",
    "version": 3
   },
   "file_extension": ".py",
   "mimetype": "text/x-python",
   "name": "python",
   "nbconvert_exporter": "python",
   "pygments_lexer": "ipython3",
   "version": "3.10.2"
  },
  "orig_nbformat": 4
 },
 "nbformat": 4,
 "nbformat_minor": 2
}
