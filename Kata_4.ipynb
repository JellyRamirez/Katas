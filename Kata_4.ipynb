{
 "cells": [
  {
   "cell_type": "markdown",
   "metadata": {},
   "source": [
    "# Ejercicio 1 : Transformar cadenas"
   ]
  },
  {
   "cell_type": "code",
   "execution_count": 2,
   "metadata": {},
   "outputs": [
    {
     "name": "stdout",
     "output_type": "stream",
     "text": [
      "\n",
      "On average, the Moon moves 4 centimeter away from the Earth every year\n"
     ]
    }
   ],
   "source": [
    "text = \"\"\"Interesting facts about the Moon. The Moon is Earth's only satellite. There are several interesting facts about the Moon and how it affects life here on Earth. \n",
    "On average, the Moon moves 4cm away from the Earth every year. This yearly drift is not significant enough to cause immediate effects on Earth. \"\"\"\n",
    "\n",
    "#Dividimos el texto en oraciones\n",
    "text_1 = text.split(\". \")\n",
    "\n",
    "#Definimos palabras clave\n",
    "pas_clave = ['average','distance','temperature']\n",
    "\n",
    "#Ciclo para recorrer la cadena\n",
    "for oracion in text_1:\n",
    "    for pa_clave in pas_clave:\n",
    "        if pa_clave in oracion:\n",
    "            print(oracion.replace(\"C\",\" Celsiui\"))\n"
   ]
  },
  {
   "cell_type": "markdown",
   "metadata": {},
   "source": [
    "# Ejercicio 2 : Formateando cadenas"
   ]
  },
  {
   "cell_type": "code",
   "execution_count": 23,
   "metadata": {},
   "outputs": [
    {
     "name": "stdout",
     "output_type": "stream",
     "text": [
      "Gravity Facts About Moon\n",
      "--------------------------------------------------\n",
      "Planet Name: Earth\n",
      "Gravity on Moon: 0.00162 m/s^2\n",
      "\n",
      "--------------------------------------------------\n",
      "\n",
      "Gravity Facts About Moon \n",
      "--------------------------------------------------\n",
      "Planet Name: Earth\n",
      "Gravity on Moon: 0.00162 m/s^2\n",
      "--------------------------------------------------\n",
      "\n"
     ]
    }
   ],
   "source": [
    "nombre = 'Moon'\n",
    "gravedad = 0.00162 # [m/s^2]\n",
    "planeta = 'Earth'\n",
    "\n",
    "#Preparación del título\n",
    "title = f'gravity facts about {nombre}'\n",
    "title_1 = title.title()\n",
    "\n",
    "#Divisor\n",
    "div = '-'*50\n",
    "\n",
    "#Plantilla\n",
    "\n",
    "hechos = f\"\"\"{div}\n",
    "Planet Name: {planeta}\n",
    "Gravity on {nombre}: {gravedad} m/s^2\n",
    "\"\"\"\n",
    "plantilla = f'{title_1}\\n{hechos}\\n{div}'\n",
    "\n",
    "print(plantilla)\n",
    "\n",
    "#Nueva plantilla\n",
    "plantilla_2 = '''\n",
    "{title_1} \n",
    "{div}\n",
    "Planet Name: {planeta}\n",
    "Gravity on {nombre}: {gravedad} m/s^2\n",
    "{div}\n",
    "'''\n",
    "\n",
    "print(plantilla_2.format(title_1 = title_1, nombre = nombre, planeta = planeta, gravedad = gravedad, div = div))\n",
    "\n",
    "\n"
   ]
  }
 ],
 "metadata": {
  "interpreter": {
   "hash": "1e649b193d03f972cce0fc4f5c57764441ad8ceea30bfcf30b505dea29a3b4c0"
  },
  "kernelspec": {
   "display_name": "Python 3.10.2 64-bit",
   "language": "python",
   "name": "python3"
  },
  "language_info": {
   "codemirror_mode": {
    "name": "ipython",
    "version": 3
   },
   "file_extension": ".py",
   "mimetype": "text/x-python",
   "name": "python",
   "nbconvert_exporter": "python",
   "pygments_lexer": "ipython3",
   "version": "3.10.2"
  },
  "orig_nbformat": 4
 },
 "nbformat": 4,
 "nbformat_minor": 2
}
