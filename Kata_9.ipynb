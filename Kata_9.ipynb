{
 "cells": [
  {
   "cell_type": "markdown",
   "metadata": {},
   "source": [
    "# Ejercicio 1: Trabajar con argumentos en funciones"
   ]
  },
  {
   "cell_type": "code",
   "execution_count": 4,
   "metadata": {},
   "outputs": [
    {
     "name": "stdout",
     "output_type": "stream",
     "text": [
      "\n",
      "    * Reporte de combustible *\n",
      "    Tanque principal: 90%\n",
      "    Tanque secundario: 65%\n",
      "    Tanque terciario: 79%\n",
      "    ---------------------------\n",
      "    Promedio total: 78.0%\n",
      "    Promedio total: 78.0%\n",
      "    \n"
     ]
    }
   ],
   "source": [
    "def prom_combustible(l1,l2,l3):\n",
    "    prom = (l1+l2+l3)/3\n",
    "    return prom\n",
    "\n",
    "def prom_combustible_2(med):\n",
    "    suma = sum(med)\n",
    "    n = len(med)\n",
    "    return suma / n\n",
    "\n",
    "def reporte(l1,l2,l3):\n",
    "    return f'''\n",
    "    * Reporte de combustible *\n",
    "    Tanque principal: {l1}%\n",
    "    Tanque secundario: {l2}%\n",
    "    Tanque terciario: {l3}%\n",
    "    ---------------------------\n",
    "    Promedio total: {prom_combustible(l1,l2,l3)}%\n",
    "    Promedio total: {prom_combustible_2([l1,l2,l3])}%\n",
    "    '''\n",
    "\n",
    "print(reporte(90,65,79))"
   ]
  },
  {
   "cell_type": "markdown",
   "metadata": {},
   "source": [
    "# Ejercicio 2: Trabajo con argumentos de palabra clave"
   ]
  },
  {
   "cell_type": "code",
   "execution_count": 6,
   "metadata": {},
   "outputs": [
    {
     "name": "stdout",
     "output_type": "stream",
     "text": [
      "\n",
      "    ** Mision a Luna **\n",
      "    Tiempo total de viaje hasta el destino: 14 minutos.\n",
      "    Combustible restante: 50000 galones.\n",
      " \n",
      "   \n"
     ]
    }
   ],
   "source": [
    "def reporte_m(t_d,c_t_a,n_d,l1,l2):\n",
    "    c_t_a = l1 + l2\n",
    "    return f'''\n",
    "    ** Mision a {n_d} **\n",
    "    Tiempo total de viaje hasta el destino: {t_d} minutos.\n",
    "    Combustible restante: {c_t_a} galones.\n",
    " \n",
    "   '''\n",
    "\n",
    "print(reporte_m(14,51,\"Luna\", 20000,30000))"
   ]
  },
  {
   "cell_type": "code",
   "execution_count": 7,
   "metadata": {},
   "outputs": [
    {
     "name": "stdout",
     "output_type": "stream",
     "text": [
      "\n",
      "    ** Mision a Luna **\n",
      "    Tiempo total de viaje hasta el destino: 60 minutos.\n",
      "    Combustible restante: 500000 galones.\n",
      " \n",
      "   \n"
     ]
    }
   ],
   "source": [
    "def reporte_m(des,*min,**reserva):\n",
    "    return f'''\n",
    "    ** Mision a {des} **\n",
    "    Tiempo total de viaje hasta el destino: {sum(min)} minutos.\n",
    "    Combustible restante: {sum(reserva.values())} galones.\n",
    " \n",
    "   '''\n",
    "\n",
    "print(reporte_m('Luna', 10, 20, 30, l1 = 300000 , l2 = 200000))"
   ]
  },
  {
   "cell_type": "code",
   "execution_count": 24,
   "metadata": {},
   "outputs": [
    {
     "name": "stdout",
     "output_type": "stream",
     "text": [
      "\n",
      " ** Mision a Luna **\n",
      " Tiempo total de viaje hasta el destino: 60 minutos.\n",
      " Combustible restante: 500000 galones.\n",
      " ------------------------------------------------------------\n",
      " Desglose de combustible:\n",
      "   Principal tanque: 300000 restantes\n",
      " Secundario tanque: 200000 restantes\n",
      " \n"
     ]
    }
   ],
   "source": [
    "def reporte_m(des,*min,**reserva):\n",
    "    reporte_1 = f'''\n",
    " ** Mision a {des} **\n",
    " Tiempo total de viaje hasta el destino: {sum(min)} minutos.\n",
    " Combustible restante: {sum(reserva.values())} galones.\n",
    " ------------------------------------------------------------\n",
    " Desglose de combustible:\n",
    "   '''\n",
    "       \n",
    "    for tanque , galones in reserva.items():\n",
    "        reporte_1 +=f'{tanque} tanque: {galones} restantes\\n ' \n",
    "    return reporte_1\n",
    "\n",
    "print(reporte_m('Luna', 10, 20, 30, Principal = 300000 , Secundario = 200000))"
   ]
  }
 ],
 "metadata": {
  "interpreter": {
   "hash": "1e649b193d03f972cce0fc4f5c57764441ad8ceea30bfcf30b505dea29a3b4c0"
  },
  "kernelspec": {
   "display_name": "Python 3.10.2 64-bit",
   "language": "python",
   "name": "python3"
  },
  "language_info": {
   "codemirror_mode": {
    "name": "ipython",
    "version": 3
   },
   "file_extension": ".py",
   "mimetype": "text/x-python",
   "name": "python",
   "nbconvert_exporter": "python",
   "pygments_lexer": "ipython3",
   "version": "3.10.2"
  },
  "orig_nbformat": 4
 },
 "nbformat": 4,
 "nbformat_minor": 2
}
